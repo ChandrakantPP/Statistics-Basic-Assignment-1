{
 "cells": [
  {
   "cell_type": "markdown",
   "id": "0ad014a8-74c5-4f9f-9f1c-4174172e4166",
   "metadata": {},
   "source": [
    "Q1. What is Statistics?"
   ]
  },
  {
   "cell_type": "markdown",
   "id": "79c5a416-1e3f-46bd-84df-8816c6a8228b",
   "metadata": {},
   "source": [
    "Ans:- Statistics:- Statistics is the science of collecting, organizing, and analyzing the data."
   ]
  },
  {
   "cell_type": "markdown",
   "id": "eca0fb6c-cb3f-4998-8027-f92b240c5d96",
   "metadata": {},
   "source": [
    "Q2. Define the different types of statistics and give an example of when each type might be used."
   ]
  },
  {
   "cell_type": "markdown",
   "id": "aa74dc32-003b-4b90-aafa-a70ff8378748",
   "metadata": {},
   "source": [
    "Ans:- Two types of statistics:-\n",
    "1) Descriptive Statistics:- it consists of organizing and summarizing the data.\n",
    "Example:- 1) measure of central tendency (Mean,Median,Mode)\n",
    "          2) measure of dispersion (variance,std)\n",
    "          3) Histograms,Bar Chart,Pie Chart\n",
    "\n",
    "2) Inferential Statistics:- it consists of using data you have measured to form conclusion.\n",
    "Example:- 1) Z-test\n",
    "          2) t-test\n",
    "          3) Hypothesis testing, p value,significance"
   ]
  },
  {
   "cell_type": "markdown",
   "id": "7bfe01c4-25c0-4f86-a49b-464cdd34ed4c",
   "metadata": {},
   "source": [
    "Q3. What are the different types of data and how do they differ from each other? Provide an example of\n",
    "each type of data."
   ]
  },
  {
   "cell_type": "raw",
   "id": "72b82abd-a0bc-43be-a1d6-203d44778901",
   "metadata": {},
   "source": [
    "Ans:- Types of Data:-\n",
    "1) Quantitative:- it's basically a Numerical Data.\n",
    "i) Discrete :- it can be a whole number with a specific range.\n",
    "Example:- number of bank accounts, number of childern in family\n",
    "ii) Continuous:- it may have any value.\n",
    "Example:- weight,height,temperature,speed\n",
    "\n",
    "2) Qualitative:- it's also called as Categorical Data.\n",
    "i) Nominal:- is a type of data that is used to label variables without providing any quantitative value.\n",
    "Example:- Gender,Blood Group\n",
    "ii) Ordinal:- we have assign rank in ordinal.\n",
    "Example:- Product Review"
   ]
  },
  {
   "cell_type": "raw",
   "id": "c137f8a8-9881-4523-a8fb-63401d8e8c33",
   "metadata": {},
   "source": [
    "Q4. Categorise the following datasets with respect to quantitative and qualitative data types:\n",
    "(i) Grading in exam: A+, A, B+, B, C+, C, D, E\n",
    "(ii) Colour of mangoes: yellow, green, orange, red\n",
    "(iii) Height data of a class: [178.9, 179, 179.5, 176, 177.2, 178.3, 175.8,...]\n",
    "(iv) Number of mangoes exported by a farm: [500, 600, 478, 672, ...]"
   ]
  },
  {
   "cell_type": "raw",
   "id": "82a6dead-0993-428e-bb72-634460021c74",
   "metadata": {},
   "source": [
    "Ans:- (i) Qualitative-> Ordinal\n",
    "      (ii) Qualitative-> Nominal\n",
    "      (iii) Quantitative-> Continous\n",
    "      (iv) Quantitative-> Discrete"
   ]
  },
  {
   "cell_type": "markdown",
   "id": "63023b06-303d-4b17-abbb-48ea45f0c02e",
   "metadata": {},
   "source": [
    "Q5. Explain the concept of levels of measurement and give an example of a variable for each level."
   ]
  },
  {
   "cell_type": "markdown",
   "id": "b3756536-01a4-4bad-a821-1b013076008e",
   "metadata": {},
   "source": [
    "Ans:- Levels of measurment:- Levels of measurement, also called scales of measurement, tell you how precisely variables are recorded. In scientific research, a variable is anything that can take on different values across your data set"
   ]
  },
  {
   "cell_type": "raw",
   "id": "51b34a99-4dc2-426c-8ad0-fd56d4a6038d",
   "metadata": {},
   "source": [
    "1) Nominal Scale Data:- Qualitative/Categorical variable, Order does not matter.\n",
    "Ex:- Gender, Colors, Labels\n",
    "\n",
    "2) Ordinal Scale Data:- Ranking and Order matter, Difference cannot be measured.\n",
    "\n",
    "3) Interval Scale Data:- Rank and Order matter, does not have Zero starting value.\n",
    "\n",
    "4) Ratio Scale Data:- Order and Rank matter, it does not have a Zero starting."
   ]
  },
  {
   "cell_type": "markdown",
   "id": "c75fd38f-5c1c-4b26-9205-0e421be207dd",
   "metadata": {},
   "source": [
    "Q6. Why is it important to understand the level of measurement when analyzing data? Provide an\n",
    "example to illustrate your answer."
   ]
  },
  {
   "cell_type": "markdown",
   "id": "7e611872-12e0-4790-bc8c-8e30b14a36d9",
   "metadata": {},
   "source": [
    "The level at which you measure a variable determines how you can analyze your data. Depending on the level of measurement, you can perform different descriptive statistics to get an overall summary of your data and inferential statistics to see if your results support or refute your hypothesis.The level at which you measure a variable determines how you can analyze your data.\n",
    "\n",
    "The different levels limit which descriptive statistics you can use to get an overall summary of your data, and which type of inferential statistics you can perform on your data to support or refute your hypothesis.\n",
    "\n",
    "In many cases, your variables can be measured at different levels, so you have to choose the level of measurement you will use before data collection begins."
   ]
  },
  {
   "cell_type": "raw",
   "id": "4bcf9b73-b027-47b7-90c2-ed677f061e7e",
   "metadata": {},
   "source": [
    "You can measure the variable of income at an ordinal or ratio level.\n",
    "Ordinal level: You create brackets of income ranges: $0–$19,999, $20,000–$39,999, and $40,000–$59,999. You ask participants to select the bracket that represents their annual income. The brackets are coded with numbers from 1–3.\n",
    "Ratio level: You collect data on the exact annual incomes of your participants."
   ]
  },
  {
   "cell_type": "markdown",
   "id": "79c89235-9f91-4e38-89ca-1b57e2e5bce8",
   "metadata": {},
   "source": [
    "Q7. How nominal data type is different from ordinal data type."
   ]
  },
  {
   "cell_type": "raw",
   "id": "dcdb42ca-df1e-45b9-a09d-eeb955418bca",
   "metadata": {},
   "source": [
    "Ans:- Nominal data type:- in nominal data type order does not matter.\n",
    "      Ordinal data type:- in ordinal data type ranking and order matter."
   ]
  },
  {
   "cell_type": "markdown",
   "id": "ce42fafa-a4d9-475d-9aa1-ef8105cceb6d",
   "metadata": {},
   "source": [
    "Q8. Which type of plot can be used to display data in terms of range?"
   ]
  },
  {
   "cell_type": "markdown",
   "id": "d5345469-fab0-497c-96f3-cc565313c7a3",
   "metadata": {},
   "source": [
    "Ans:- Scatterplots"
   ]
  },
  {
   "cell_type": "markdown",
   "id": "8656c5af-19c5-4325-ae5f-a50cbead6854",
   "metadata": {},
   "source": [
    "Q9. Describe the difference between descriptive and inferential statistics. Give an example of each\n",
    "type of statistics and explain how they are used."
   ]
  },
  {
   "cell_type": "raw",
   "id": "10735e81-f3a5-4585-ac42-a8fb3505e283",
   "metadata": {},
   "source": [
    "Ans:- Descriptive Statistics:- it consists of organizing and summarizing the data.\n",
    "      Example:- 1) measure of central tendency\n",
    "                2) measure of dispersion\n",
    "                3) Histogram, Bar Chart, Pie Chart\n",
    "            \n",
    "      Inferential Statistics:- it consists of using data you have measured to form conclusion.\n",
    "      Example:- 1) Z-test\n",
    "                2) t-test\n",
    "                3) Hypothesis testing, P value, Significance"
   ]
  },
  {
   "cell_type": "markdown",
   "id": "f66866ae-210b-479b-b50a-feae90b230c2",
   "metadata": {},
   "source": [
    "Q10. What are some common measures of central tendency and variability used in statistics? Explain\n",
    "how each measure can be used to describe a dataset."
   ]
  },
  {
   "cell_type": "markdown",
   "id": "b52d02bb-e9a8-46c6-b823-02998de45268",
   "metadata": {},
   "source": [
    "Ans:- Measures of central tendency tell us what is common or typical about our variable.Three measures of central tendency are the mode, the median and the mean.\n",
    "      Measures of variability are numbers that describe how much variation or diversity there is in a distribution."
   ]
  },
  {
   "cell_type": "markdown",
   "id": "1725d31a-2e62-45e0-b19a-8d18f81b1ffd",
   "metadata": {},
   "source": [
    " measure that attempts to describe a whole set of data with a single value that represents the middle or centre of its distribution."
   ]
  }
 ],
 "metadata": {
  "kernelspec": {
   "display_name": "Python 3 (ipykernel)",
   "language": "python",
   "name": "python3"
  },
  "language_info": {
   "codemirror_mode": {
    "name": "ipython",
    "version": 3
   },
   "file_extension": ".py",
   "mimetype": "text/x-python",
   "name": "python",
   "nbconvert_exporter": "python",
   "pygments_lexer": "ipython3",
   "version": "3.10.8"
  }
 },
 "nbformat": 4,
 "nbformat_minor": 5
}
